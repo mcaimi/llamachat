{
 "cells": [
  {
   "cell_type": "markdown",
   "id": "ea57bff9",
   "metadata": {},
   "source": [
    "### Docling Document Conversion Example\n",
    "\n",
    "This example demonstrates how to convert a PDF file into a Docling Document and explore other Docling features"
   ]
  },
  {
   "cell_type": "code",
   "execution_count": null,
   "id": "9f37e56e",
   "metadata": {},
   "outputs": [],
   "source": [
    "# install required libraries\n",
    "%pip install -q docling pdfplumber"
   ]
  },
  {
   "cell_type": "code",
   "execution_count": null,
   "id": "fc965dc5",
   "metadata": {},
   "outputs": [],
   "source": [
    "# import docling and python libs into the notebook\n",
    "try:\n",
    "    import mimetypes as mt\n",
    "    from pathlib import Path\n",
    "    # docling\n",
    "    from docling_core.types.doc import DoclingDocument\n",
    "    from docling.datamodel.accelerator_options import AcceleratorDevice, AcceleratorOptions\n",
    "    from docling.document_converter import DocumentConverter, PdfFormatOption\n",
    "    from docling.datamodel.base_models import InputFormat, DocumentStream\n",
    "    from docling.datamodel.pipeline_options import PdfPipelineOptions\n",
    "    from docling.backend.pypdfium2_backend import PyPdfiumDocumentBackend\n",
    "    from docling.backend.docling_parse_v4_backend import DoclingParseV4DocumentBackend      \n",
    "    from docling.chunking import HybridChunker\n",
    "except Exception as e:\n",
    "    print(f\"Caught fatal exception: {e}\")"
   ]
  },
  {
   "cell_type": "markdown",
   "id": "55d46975",
   "metadata": {},
   "source": [
    "#### Declare some helper functions to handle file conversion and other features\n",
    "\n",
    "In the following cell we define some helper functions that will handle the document load/conversion process\n",
    "\n",
    "- `createDoclingConverter`: function that returns a DoclingConverter instance that can be used for converting a PDF file into a DoclingDocument.\n",
    "- `prepareDocuments`: function that takes a list of file paths and returns a list of `DoclingDocument` objects.\n",
    "- `chunkFiles`: function that takes a list of Docling Documents and returns the list of chunks for each document."
   ]
  },
  {
   "cell_type": "code",
   "execution_count": null,
   "id": "88e3c06e",
   "metadata": {},
   "outputs": [],
   "source": [
    "def createDoclingConverter(do_ocr: bool = False, \n",
    "                          do_table_structure: bool = True, \n",
    "                          pdf_backend: PyPdfiumDocumentBackend|DoclingParseV4DocumentBackend = PyPdfiumDocumentBackend,\n",
    "                          threads: int = 4) -> DocumentConverter:\n",
    "    # Instantiate the docling conversion engine\n",
    "    pdf_options = PdfPipelineOptions()\n",
    "    pdf_options.do_ocr = do_ocr\n",
    "    pdf_options.do_table_structure = do_table_structure\n",
    "    pdf_options.accelerator_options = AcceleratorOptions(num_threads=threads, device=AcceleratorDevice.AUTO)\n",
    "\n",
    "    # Convert PDF to Docling Document\n",
    "    converter = DocumentConverter(\n",
    "        allowed_formats=[InputFormat.PDF, \n",
    "                        InputFormat.HTML,\n",
    "                        InputFormat.MD,\n",
    "                        InputFormat.DOCX, \n",
    "                        InputFormat.XLSX],\n",
    "        format_options={\n",
    "            InputFormat.PDF: PdfFormatOption(\n",
    "                pipeline_options=pdf_options,\n",
    "                backend=pdf_backend,\n",
    "            )\n",
    "        }\n",
    "    )\n",
    "\n",
    "    # return handler\n",
    "    return converter"
   ]
  },
  {
   "cell_type": "code",
   "execution_count": null,
   "id": "f5e21d91-e3f4-4476-802e-259b1a9cfd53",
   "metadata": {},
   "outputs": [],
   "source": [
    "def prepareDocuments(converter: DocumentConverter, uploaded_files: list) -> list:\n",
    "    converted_docs = []\n",
    "\n",
    "    for i, ufile in enumerate(uploaded_files):       \n",
    "        # convert file\n",
    "        docling_doc = converter.convert(source=ufile.get(\"name\"))\n",
    "        \n",
    "        # get mimetype\n",
    "        mimetype = mt.guess_type(ufile.get(\"name\"))[0]\n",
    "        \n",
    "        # Add metadata to the Docling Document\n",
    "        metadata = {\n",
    "            \"name\": f\"{ufile.get('name')}\",\n",
    "            \"mimetype\":f\"{mimetype}\",\n",
    "            \"document_id\": f\"document_id_{i}\",\n",
    "        }\n",
    "        \n",
    "        # push to array & free resources\n",
    "        converted_docs.append({\n",
    "            \"doc\": docling_doc,\n",
    "            \"metadata\": metadata,\n",
    "        })\n",
    "    \n",
    "    # return documents\n",
    "    return converted_docs"
   ]
  },
  {
   "cell_type": "code",
   "execution_count": null,
   "id": "d2a530fb-dc4d-4547-8dcb-77b6bcb02036",
   "metadata": {},
   "outputs": [],
   "source": [
    "def chunkFiles(converted_docs: list) -> list:\n",
    "    for i, ufile in enumerate(converted_docs):\n",
    "        # perform chunking on the converted documents\n",
    "        chunker = HybridChunker()\n",
    "        docs = []\n",
    "\n",
    "        for doc in converted_docs:\n",
    "            chunks = list(chunker.chunk(dl_doc=doc[\"doc\"].document))\n",
    "            for i, chunk in enumerate(chunks):\n",
    "                # contextualize chunk for content storage\n",
    "                chunk_content = chunker.contextualize(chunk=chunk)\n",
    "                # fill metadata\n",
    "                metadata = {\n",
    "                    \"name\": chunk.meta.origin.filename,\n",
    "                    \"uri\": chunk.meta.origin.uri,\n",
    "                    \"headings\": chunk.meta.headings,\n",
    "                    \"captions\": chunk.meta.captions,\n",
    "                    \"mimetype\": chunk.meta.origin.mimetype,\n",
    "                }\n",
    "                # fill chunk metadata\n",
    "                chunk_metadata = {\n",
    "                    \"document_id\": f\"{chunk.meta.origin.filename}_{chunk.meta.origin.binary_hash}\",\n",
    "                    \"chunk_id\": f\"{chunk.meta.origin.filename}_{chunk.meta.origin.binary_hash}_chunk_{i}\",\n",
    "                    \"source\": metadata.get('url') or metadata.get(\"name\"),\n",
    "                }\n",
    "\n",
    "                # append chunk to doc list                \n",
    "                docs.append({\n",
    "                    \"content\": chunk_content,\n",
    "                    \"mime_type\": chunk.meta.origin.mimetype,\n",
    "                    \"metadata\": metadata,\n",
    "                    \"chunk_metadata\": chunk_metadata,\n",
    "                })\n",
    "    \n",
    "    # return docs\n",
    "    return docs"
   ]
  },
  {
   "cell_type": "markdown",
   "id": "cd2c2703",
   "metadata": {},
   "source": [
    "#### Load and Prepare a document with Docling\n",
    "\n",
    "Let's load a PDF file and process it with Docling"
   ]
  },
  {
   "cell_type": "code",
   "execution_count": null,
   "id": "2475c166",
   "metadata": {},
   "outputs": [],
   "source": [
    "# the file to be converted\n",
    "pdf_file = Path(\"./\").parent / \"rfc2104.pdf\"\n",
    "print(f\"Working on file {pdf_file}\")\n",
    "\n",
    "# file object to be processed\n",
    "uploaded_files = [\n",
    "    { \"name\": pdf_file,\n",
    "      \"content_type\": \"application/pdf\"\n",
    "    }\n",
    "]"
   ]
  },
  {
   "cell_type": "code",
   "execution_count": null,
   "id": "4ca080b6",
   "metadata": {},
   "outputs": [],
   "source": [
    "# create the docling converter object...\n",
    "try:\n",
    "    doclingConverter = createDoclingConverter()\n",
    "\n",
    "    # prepare documents\n",
    "    docs = prepareDocuments(doclingConverter, uploaded_files)\n",
    "except Exception as e:\n",
    "    print(f\"{e}\")"
   ]
  },
  {
   "cell_type": "code",
   "execution_count": null,
   "id": "2accf10f-7a5a-4c31-b179-527bcc33fc48",
   "metadata": {},
   "outputs": [],
   "source": [
    "# explore converted document\n",
    "for d in docs:\n",
    "    # display info\n",
    "    print(f\"Document Metadata: {d.get('metadata')}\\nDoc Filename: {d.get('doc').input.file.stem}\")\n",
    "    "
   ]
  },
  {
   "cell_type": "markdown",
   "id": "04afd854-9374-4408-8bb8-d19c1b6f3687",
   "metadata": {},
   "source": [
    "#### Convert File into different Formats\n",
    "\n",
    "Now that the document has been converted to Docling Format, we can export it in different output formats.\n",
    "\n",
    "For that purpose, we define a function:\n",
    "\n",
    "- `exportToFormat`: that takes as input the DoclingDocument we want to convert and the desired output format.\n",
    "\n",
    "Supported formats:\n",
    "\n",
    "- JSON\n",
    "- MD\n",
    "- TXT\n",
    "- DOCTAGS"
   ]
  },
  {
   "cell_type": "code",
   "execution_count": null,
   "id": "b14932ac-9faa-4bff-8c67-8968277b3989",
   "metadata": {},
   "outputs": [],
   "source": [
    "# define a conversion function\n",
    "def exportToFormat(doc: DoclingDocument,\n",
    "                   output_format: str = \"json\",\n",
    "                   output_dir: str = \"conversion_output\") -> None:\n",
    "    # output file root\n",
    "    outfile = doc.input.file.stem\n",
    "    \n",
    "    # Create Output Dir\n",
    "    try:\n",
    "        output_dir = Path(\"./\").parent / output_dir\n",
    "        output_dir.mkdir(parents=True, exist_ok=True)\n",
    "    except Exception as e:\n",
    "        print(f\"{e}\")\n",
    "\n",
    "    if output_format not in [\"json\", \"md\", \"txt\", \"doctag\"]:\n",
    "        raise Exception(f\"{output_format}: Unsupported Conversion Format\")\n",
    "    \n",
    "    # convert file\n",
    "    match output_format:\n",
    "        case \"json\":\n",
    "            import json\n",
    "            with (output_dir / f\"{outfile}.json\").open(\"w\", encoding=\"utf-8\") as jsonfile:\n",
    "                jsonfile.write(json.dumps(doc.document.export_to_dict()))\n",
    "        case \"txt\":\n",
    "            with (output_dir / f\"{outfile}.txt\").open(\"w\", encoding=\"utf-8\") as txtfile:\n",
    "                txtfile.write(doc.document.export_to_text())\n",
    "        case \"md\":\n",
    "            with (output_dir / f\"{outfile}.md\").open(\"w\", encoding=\"utf-8\") as mdfile:\n",
    "                mdfile.write(doc.document.export_to_markdown())\n",
    "        case \"doctag\":\n",
    "            with (output_dir / f\"{outfile}.doctags\").open(\"w\", encoding=\"utf-8\") as doctag:\n",
    "                doctag.write(doc.document.export_to_doctags())"
   ]
  },
  {
   "cell_type": "code",
   "execution_count": null,
   "id": "4fecb417-3ee4-47be-85d9-a37bf8a24f65",
   "metadata": {},
   "outputs": [],
   "source": [
    "# Export file to different formats\n",
    "out_formats = [\"json\", \"md\", \"txt\", \"doctag\"]\n",
    "try:\n",
    "    for fmt in out_formats:\n",
    "        for doc in docs:\n",
    "            d = doc.get('doc')\n",
    "            print(f\"Exporting {d.input.file.stem} to {fmt}...\")\n",
    "            exportToFormat(d, output_format=fmt, output_dir=\"converted_files\")\n",
    "except Exception as e:\n",
    "    print(f\"Conversion Error: {e}\")\n"
   ]
  },
  {
   "cell_type": "markdown",
   "id": "57a1e954-82c7-4a87-a9a9-2053265a8709",
   "metadata": {},
   "source": [
    "#### Explore Chunking Capabilities\n",
    "\n",
    "Use the HybridChunker() class from docling to successfully chunk text for further processing (e.g. RAG ingestion)"
   ]
  },
  {
   "cell_type": "code",
   "execution_count": null,
   "id": "a548d487-a447-43b5-a8a4-7526b446b87b",
   "metadata": {},
   "outputs": [],
   "source": [
    "import pprint\n",
    "# try chunking the document\n",
    "chunked_docs = chunkFiles(docs)\n",
    "\n",
    "# explore chunks\n",
    "print(f\"Generated {len(chunked_docs)} chunks\")\n",
    "\n",
    "# print\n",
    "pprint.pprint(list(chunked_docs))"
   ]
  }
 ],
 "metadata": {
  "kernelspec": {
   "display_name": "Python 3 (ipykernel)",
   "language": "python",
   "name": "python3"
  },
  "language_info": {
   "codemirror_mode": {
    "name": "ipython",
    "version": 3
   },
   "file_extension": ".py",
   "mimetype": "text/x-python",
   "name": "python",
   "nbconvert_exporter": "python",
   "pygments_lexer": "ipython3",
   "version": "3.11.11"
  }
 },
 "nbformat": 4,
 "nbformat_minor": 5
}
