{
 "cells": [
  {
   "cell_type": "code",
   "execution_count": null,
   "id": "191afd65-45f4-4db3-942d-6eaf2e301a30",
   "metadata": {},
   "outputs": [],
   "source": [
    "%pip install -U pip\n",
    "%pip install -q numpy torchcodec torchaudio ffmpeg matplotlib\n",
    "%pip list |awk '/numpy|torch|ffmpeg|matplotlib/ {print $1,$2}'"
   ]
  },
  {
   "cell_type": "code",
   "execution_count": null,
   "id": "37bc756f-0f2e-4b5b-99c7-78d093db0872",
   "metadata": {},
   "outputs": [],
   "source": [
    "try:\n",
    "    from torchcodec.decoders import AudioDecoder\n",
    "    from audio_io import resample, waveform, spectrum\n",
    "    from pprint import pprint\n",
    "    from torch import arange\n",
    "except ImportError as e:\n",
    "    print(f\"Import error: {e}\")"
   ]
  },
  {
   "cell_type": "code",
   "execution_count": null,
   "id": "f0715367-020f-447d-8503-66cb26017bb9",
   "metadata": {},
   "outputs": [],
   "source": [
    "# constants and configurations\n",
    "AUDIO_FILE = \"1.MP3\"\n",
    "TARGET_SAMPLING_RATE = 16_000\n",
    "TARGET_NUM_CHANNEL = 1\n",
    "TARGET_FORMAT=\"mp3\"\n",
    "FREQUENCY_BINS = 512"
   ]
  },
  {
   "cell_type": "code",
   "execution_count": null,
   "id": "d956f322-bf21-498e-bce0-2763be870382",
   "metadata": {},
   "outputs": [],
   "source": [
    "# load audio file\n",
    "audioClip = AudioDecoder(AUDIO_FILE)\n",
    "\n",
    "# explore results\n",
    "print(f\"Returned Type: {type(audioClip)}. Metadata: {type(audioClip.metadata)}\")"
   ]
  },
  {
   "cell_type": "code",
   "execution_count": null,
   "id": "fb6f6b44-e785-4e4f-9c20-b0ef85eb49b0",
   "metadata": {},
   "outputs": [],
   "source": [
    "# print loaded file metadata\n",
    "pprint(audioClip.metadata)\n",
    "pprint(audioClip.get_all_samples().data.shape)"
   ]
  },
  {
   "cell_type": "code",
   "execution_count": null,
   "id": "33303fb1-a91d-4636-9c48-20f1c4c57aa6",
   "metadata": {},
   "outputs": [],
   "source": [
    "# verify resampling...\n",
    "resampledClip = resample(audioClip, target_sample_rate=TARGET_SAMPLING_RATE, target_num_channels=TARGET_NUM_CHANNEL, target_format=TARGET_FORMAT)\n",
    "\n",
    "# view\n",
    "pprint(resampledClip.metadata)\n",
    "pprint(type(resampledClip))"
   ]
  },
  {
   "cell_type": "code",
   "execution_count": null,
   "id": "cb002c45-8a51-46c4-8782-7e1cc0af8f6f",
   "metadata": {},
   "outputs": [],
   "source": [
    "# plot waveforms - original\n",
    "fig_original, axis_original = waveform(audioClip)\n",
    "# resampled\n",
    "fig_resampled, axis_resampled = waveform(resampledClip)"
   ]
  },
  {
   "cell_type": "code",
   "execution_count": null,
   "id": "17f2fb8c-2556-4137-8544-883a371eec75",
   "metadata": {},
   "outputs": [],
   "source": [
    "# Display Spectrum - original\n",
    "spectrum_original, spectrum_axis_original = spectrum(audioClip, num_fft_bins=1024)\n",
    "\n",
    "# resampled audio\n",
    "spectrum_resampled, spectrum_axis_resampled = spectrum(resampledClip, num_fft_bins=1024)"
   ]
  }
 ],
 "metadata": {
  "kernelspec": {
   "display_name": ".venv",
   "language": "python",
   "name": "python3"
  },
  "language_info": {
   "codemirror_mode": {
    "name": "ipython",
    "version": 3
   },
   "file_extension": ".py",
   "mimetype": "text/x-python",
   "name": "python",
   "nbconvert_exporter": "python",
   "pygments_lexer": "ipython3",
   "version": "3.12.12"
  }
 },
 "nbformat": 4,
 "nbformat_minor": 5
}
