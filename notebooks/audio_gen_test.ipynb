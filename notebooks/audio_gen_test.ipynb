{
 "cells": [
  {
   "cell_type": "markdown",
   "id": "9efe5d8f",
   "metadata": {},
   "source": [
    "# Audio Generation Test\n",
    "\n",
    "Experimenting with text-to-audio models"
   ]
  },
  {
   "cell_type": "code",
   "execution_count": null,
   "id": "e3131218",
   "metadata": {},
   "outputs": [],
   "source": [
    "try:\n",
    "    from torchcodec.encoders import AudioEncoder\n",
    "    from torchcodec.decoders import AudioDecoder\n",
    "    from kokoro import KPipeline\n",
    "    import huggingface_hub as hf\n",
    "    from audio_io import waveform, spectrum\n",
    "except ImportError as e:\n",
    "    print(f\"Cannot import lib: {e}\")\n",
    "except RuntimeError as r:\n",
    "    print(f\"Error during library import: {r}\")"
   ]
  },
  {
   "cell_type": "markdown",
   "id": "6dd45ed4",
   "metadata": {},
   "source": [
    "## Define Variables"
   ]
  },
  {
   "cell_type": "code",
   "execution_count": null,
   "id": "8e2114cc",
   "metadata": {},
   "outputs": [],
   "source": [
    "# HF model\n",
    "HF_REPO_ID: str = \"hexgrad/Kokoro-82M\"\n",
    "\n",
    "# audio parameters\n",
    "SAMPLE_RATE: int = 22050"
   ]
  },
  {
   "cell_type": "markdown",
   "id": "bfb1bd0e",
   "metadata": {},
   "source": [
    "# Download Model"
   ]
  },
  {
   "cell_type": "code",
   "execution_count": null,
   "id": "24062cdc",
   "metadata": {},
   "outputs": [],
   "source": [
    "# get model from HF repo\n",
    "model_path = hf.snapshot_download(repo_id=HF_REPO_ID)\n",
    "\n",
    "# show download path\n",
    "print(f\"Downloaded model {HF_REPO_ID} @ {model_path}\")"
   ]
  },
  {
   "cell_type": "markdown",
   "id": "64fdee55",
   "metadata": {},
   "source": [
    "# Tweak Parameters"
   ]
  },
  {
   "cell_type": "code",
   "execution_count": null,
   "id": "54c9eb74",
   "metadata": {},
   "outputs": [],
   "source": [
    "# test cases\n",
    "TEST_CASES: list = [\n",
    "    {\n",
    "        \"lang_id\": \"a\",\n",
    "        \"voice_id\": \"af_heart\",\n",
    "        \"text\": \"Programming isn’t just about coaxing a machine to obey commands; it’s a dialogue between imagination and logic, where each line of code is a brushstroke on a digital canvas, turning abstract ideas into tangible experiences that shape the future.\"\n",
    "    },\n",
    "    {\n",
    "        \"lang_id\": \"b\",\n",
    "        \"voice_id\": \"bf_emma\",\n",
    "        \"text\": \"Programming isn’t just about coaxing a machine to obey commands; it’s a dialogue between imagination and logic, where each line of code is a brushstroke on a digital canvas, turning abstract ideas into tangible experiences that shape the future.\"\n",
    "    }\n",
    "]"
   ]
  },
  {
   "cell_type": "markdown",
   "id": "f14faa53",
   "metadata": {},
   "source": [
    "# Audio Generation Test"
   ]
  },
  {
   "cell_type": "code",
   "execution_count": null,
   "id": "577e56c3",
   "metadata": {},
   "outputs": [],
   "source": [
    "# gen audio pipeline\n",
    "OUTPUTS: list = []\n",
    "for testcase in TEST_CASES:\n",
    "    # create audio pipeline\n",
    "    gen_pipeline = KPipeline(lang_code=testcase.get(\"lang_id\"), repo_id=HF_REPO_ID)\n",
    "    OUTPUTS.append(gen_pipeline(text=testcase.get(\"text\"), voice=testcase.get(\"voice_id\")))\n",
    "    del gen_pipeline\n",
    "\n",
    "# explore outputs\n",
    "print(f\"Produced {len(OUTPUTS)} audio waveforms.\")"
   ]
  },
  {
   "cell_type": "code",
   "execution_count": null,
   "id": "f2346404",
   "metadata": {},
   "outputs": [],
   "source": [
    "# output generated audio\n",
    "ENCODED_AUDIO: list = []\n",
    "for i, output in enumerate(OUTPUTS):\n",
    "    for index, (gs, ps, audio) in enumerate(output):\n",
    "        print(f\"Grapheme: {gs}, phoneme: {ps}\")\n",
    "        print(f\"Tensor Shape: {audio.shape}\")\n",
    "\n",
    "        # encode audio\n",
    "        filename: str = f\"/tmp/output_{i}.mp3\"\n",
    "        e: AudioEncoder = AudioEncoder(samples=audio, sample_rate=SAMPLE_RATE)\n",
    "        e.to_file(filename)\n",
    "        ENCODED_AUDIO.append({\n",
    "            \"audioencoder\": e,\n",
    "            \"graphemes\": gs,\n",
    "            \"phonemes\": ps, \n",
    "            \"filename\": filename\n",
    "        })\n",
    "        "
   ]
  },
  {
   "cell_type": "markdown",
   "id": "a387c23c",
   "metadata": {},
   "source": [
    "# Visualize Waveforms"
   ]
  },
  {
   "cell_type": "code",
   "execution_count": null,
   "id": "8d8d1888",
   "metadata": {},
   "outputs": [],
   "source": [
    "# plot waveforms..\n",
    "for w in ENCODED_AUDIO:\n",
    "    d: AudioDecoder = AudioDecoder(w.get(\"audioencoder\").to_tensor(format=\"wav\"))\n",
    "    waveform(d)\n",
    "    spectrum(d)\n",
    "    del d"
   ]
  },
  {
   "cell_type": "markdown",
   "id": "aa1c0d83",
   "metadata": {},
   "source": [
    "# Hear Audio Rendering"
   ]
  },
  {
   "cell_type": "code",
   "execution_count": null,
   "id": "57ee48c4",
   "metadata": {},
   "outputs": [],
   "source": [
    "from IPython.display import Audio\n",
    "\n",
    "# head audio!\n",
    "for w in ENCODED_AUDIO:\n",
    "    print(f\"Rendered Phonemes: {w.get('phonemes')}\")\n",
    "    display(Audio(w.get(\"filename\"), rate=SAMPLE_RATE))"
   ]
  }
 ],
 "metadata": {
  "kernelspec": {
   "display_name": ".venv",
   "language": "python",
   "name": "python3"
  },
  "language_info": {
   "codemirror_mode": {
    "name": "ipython",
    "version": 3
   },
   "file_extension": ".py",
   "mimetype": "text/x-python",
   "name": "python",
   "nbconvert_exporter": "python",
   "pygments_lexer": "ipython3",
   "version": "3.12.12"
  }
 },
 "nbformat": 4,
 "nbformat_minor": 5
}
